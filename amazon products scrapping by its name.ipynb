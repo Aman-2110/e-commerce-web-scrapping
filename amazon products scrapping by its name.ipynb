{
 "cells": [
  {
   "cell_type": "code",
   "execution_count": 1,
   "id": "terminal-surveillance",
   "metadata": {},
   "outputs": [],
   "source": [
    "# imports\n",
    "from bs4 import BeautifulSoup as bs\n",
    "import requests as req\n",
    "import pandas as pd"
   ]
  },
  {
   "cell_type": "code",
   "execution_count": 119,
   "id": "arctic-brown",
   "metadata": {},
   "outputs": [],
   "source": [
    "# for Testing\n",
    "product_page_url ='https://www.amazon.in/ASUS-i3-1005G1-Integrated-Transparent-K413JA-EK289T/dp/B08S4TY7WL/ref=sr_1_3?crid=1H2ECW5THL6OK&dchild=1&keywords=asus+laptops&qid=1612252842&sprefix=asus+la%2Caps%2C407&sr=8-3'"
   ]
  },
  {
   "cell_type": "code",
   "execution_count": 65,
   "id": "greenhouse-child",
   "metadata": {},
   "outputs": [
    {
     "name": "stdout",
     "output_type": "stream",
     "text": [
      "ASUS VivoBook Ultra K14 (2020), Intel Core i3-1005G1 10th Gen, 14-Inch FHD Thin and Light Laptop (8GB RAM/512GB SSD/Windows 10/Integrated Graphics/Transparent Silver/1.4 kg), K413JA-EK289T\n",
      "[{'M.R.P.:': ' ₹\\xa049,990.00'}, {'Price:': '₹\\xa042,295.00'}]\n"
     ]
    }
   ],
   "source": [
    "page_content = req.get(product_page_url,headers={\"User-Agent\": \"Requests\"}).content\n",
    "bsoup_object = bs(page_content)\n",
    "useful_content = bsoup_object.find('div',{'id':'centerCol'})"
   ]
  },
  {
   "cell_type": "code",
   "execution_count": 2,
   "id": "broken-annual",
   "metadata": {},
   "outputs": [],
   "source": [
    "# this fuction return product name from given product page\n",
    "def get_product_name(content):\n",
    "    block = content.find('div',{'id':'title_feature_div'})\n",
    "    if block.h1 != None :\n",
    "        h1 =block.h1\n",
    "        if h1.find('span') :\n",
    "            return h1.find('span').text.strip()"
   ]
  },
  {
   "cell_type": "code",
   "execution_count": 3,
   "id": "alternate-collar",
   "metadata": {},
   "outputs": [],
   "source": [
    "# this fuction return product MRP and price from given product page\n",
    "def get_product_prices(content):\n",
    "    block = content.find('div',{'id':'desktop_unifiedPrice'})\n",
    "    try:\n",
    "        if block.find('table'):\n",
    "            table = block.find('table')\n",
    "            table_rows = table.find_all('tr')\n",
    "\n",
    "            prices = []\n",
    "            for row in table_rows:\n",
    "                 if row.find('td'):\n",
    "                    row_data = row.find_all('td')\n",
    "                    if len(row_data) ==2:\n",
    "                        price_key =\"\"\n",
    "                        for data in row_data:\n",
    "                            if data.find('span') and price_key !='':\n",
    "                                 prices.append({price_key:data.span.text})   \n",
    "                            else :\n",
    "                                price_key = data.text\n",
    "            return prices\n",
    "    except : \n",
    "        return"
   ]
  },
  {
   "cell_type": "code",
   "execution_count": 4,
   "id": "legitimate-corruption",
   "metadata": {},
   "outputs": [],
   "source": [
    "# this function takes product page url and return product name and MRP and price\n",
    "def get_product_details(product_page_url):\n",
    "    page_content = req.get(product_page_url,headers={\"User-Agent\": \"Requests\"}).content\n",
    "    bsoup_object = bs(page_content)\n",
    "    useful_content = bsoup_object.find('div',{'id':'centerCol'})\n",
    "    return { get_product_name(useful_content):get_product_prices(useful_content)}"
   ]
  },
  {
   "cell_type": "markdown",
   "id": "thermal-stretch",
   "metadata": {},
   "source": [
    "## All functions are ready for scrape specific product information \n",
    "### Let use this functions for search specific result on amazon"
   ]
  },
  {
   "cell_type": "code",
   "execution_count": 5,
   "id": "fifth-bundle",
   "metadata": {},
   "outputs": [],
   "source": [
    "base_url = 'https://www.amazon.in'"
   ]
  },
  {
   "cell_type": "code",
   "execution_count": 6,
   "id": "superior-patient",
   "metadata": {},
   "outputs": [],
   "source": [
    "# this function takes a string we want to search and return a query for url \n",
    "def get_search_query(search):\n",
    "    template = '/s?k={}'\n",
    "    query = search.replace(' ','+')\n",
    "    return template.format(query)"
   ]
  },
  {
   "cell_type": "code",
   "execution_count": 7,
   "id": "classified-brand",
   "metadata": {},
   "outputs": [],
   "source": [
    "# this function return all possible product urls that you want to search\n",
    "## Helper Function\n",
    "def filter_product_url(card):\n",
    "    product = card.find('h2')\n",
    "    if product != None and product.find('a'):\n",
    "        url = product.find('a').get('href')\n",
    "        return url"
   ]
  },
  {
   "cell_type": "code",
   "execution_count": 8,
   "id": "drawn-afternoon",
   "metadata": {},
   "outputs": [],
   "source": [
    "# this function return all possible product urls that you want to search using url that contains search query\n",
    "def get_all_products_url(url):\n",
    "    page_content = req.get(url,headers={\"User-Agent\": \"Requests\"}).content\n",
    "    # convert into beautiful soup object\n",
    "    bsoup = bs(page_content)\n",
    "    product_cards = bsoup.find_all('div' , {'class': 'sg-col-inner'})\n",
    "    products = []\n",
    "    for card in product_cards:\n",
    "        product_name = filter_product_url(card)\n",
    "        if product_name is not None:\n",
    "            products.append(product_name)\n",
    "    return products"
   ]
  },
  {
   "cell_type": "code",
   "execution_count": 9,
   "id": "incorporated-enlargement",
   "metadata": {},
   "outputs": [],
   "source": [
    "# lets test our function , search for asus laptops on amazon\n",
    "products_pages = get_all_products_url(base_url+get_search_query(\"asus laptops\"))"
   ]
  },
  {
   "cell_type": "code",
   "execution_count": 22,
   "id": "parallel-kelly",
   "metadata": {},
   "outputs": [
    {
     "data": {
      "text/plain": [
       "55"
      ]
     },
     "execution_count": 22,
     "metadata": {},
     "output_type": "execute_result"
    }
   ],
   "source": [
    "# how many products pages are found\n",
    "len(products_pages)"
   ]
  },
  {
   "cell_type": "code",
   "execution_count": 23,
   "id": "green-entertainment",
   "metadata": {},
   "outputs": [
    {
     "data": {
      "text/plain": [
       "['/ASUS-VivoBook-i3-1005G1-Integrated-X409JA-EK011T/dp/B08BV8CBC9/ref=sr_1_1?dchild=1&keywords=asus+laptops&qid=1612359853&sr=8-1',\n",
       " '/ASUS-VivoBook-i3-1005G1-Integrated-X409JA-EK011T/dp/B08BV8CBC9/ref=sr_1_1?dchild=1&keywords=asus+laptops&qid=1612359853&sr=8-1',\n",
       " '/ASUS-VivoBook-i3-1005G1-Integrated-X409JA-EK011T/dp/B08BV8CBC9/ref=sr_1_1?dchild=1&keywords=asus+laptops&qid=1612359853&sr=8-1',\n",
       " '/ASUS-VivoBook-i3-1005G1-Integrated-X409JA-EK011T/dp/B08BV8CBC9/ref=sr_1_1?dchild=1&keywords=asus+laptops&qid=1612359853&sr=8-1',\n",
       " '/ASUS-i3-1005G1-15-6-inch-Integrated-X515JA-EJ301T/dp/B08PQVXSVK/ref=sr_1_2?dchild=1&keywords=asus+laptops&qid=1612359853&sr=8-2']"
      ]
     },
     "execution_count": 23,
     "metadata": {},
     "output_type": "execute_result"
    }
   ],
   "source": [
    "# lets see top 5 \n",
    "products_pages[:5]"
   ]
  },
  {
   "cell_type": "code",
   "execution_count": 11,
   "id": "neutral-difficulty",
   "metadata": {},
   "outputs": [],
   "source": [
    "# lets use the above urls for finding the product details on product details page\n",
    "## First ten product is enough\n",
    "products_price_details =[]\n",
    "for index , product in enumerate(products_pages):\n",
    "    if index ==10 :\n",
    "        break\n",
    "    products_price_details.append(get_product_details(base_url+product))\n"
   ]
  },
  {
   "cell_type": "code",
   "execution_count": 13,
   "id": "available-omaha",
   "metadata": {},
   "outputs": [],
   "source": [
    "# Format our data into dictionary of lists in order to feed into pandas\n",
    "def format_data(product_list):\n",
    "    product_names =[]\n",
    "    MRPs =[]\n",
    "    prices =[]\n",
    "    for product in product_list:\n",
    "        name = list(product.keys())[0]\n",
    "        product_names.append(name)\n",
    "        details = product[name]\n",
    "        mrp = details[0][list(details[0].keys())[0]]        \n",
    "        price = details[1][list(details[1].keys())[0]]\n",
    "        MRPs.append(mrp)\n",
    "        prices.append(price)\n",
    "    return {\"Product Name\" : product_names,\"MRP\" :MRPs,\"Selling Price\":prices}"
   ]
  },
  {
   "cell_type": "code",
   "execution_count": 14,
   "id": "reflected-stick",
   "metadata": {},
   "outputs": [],
   "source": [
    "formated_data = format_data(products_price_details)"
   ]
  },
  {
   "cell_type": "code",
   "execution_count": 15,
   "id": "integrated-somewhere",
   "metadata": {},
   "outputs": [
    {
     "data": {
      "text/html": [
       "<div>\n",
       "<style scoped>\n",
       "    .dataframe tbody tr th:only-of-type {\n",
       "        vertical-align: middle;\n",
       "    }\n",
       "\n",
       "    .dataframe tbody tr th {\n",
       "        vertical-align: top;\n",
       "    }\n",
       "\n",
       "    .dataframe thead th {\n",
       "        text-align: right;\n",
       "    }\n",
       "</style>\n",
       "<table border=\"1\" class=\"dataframe\">\n",
       "  <thead>\n",
       "    <tr style=\"text-align: right;\">\n",
       "      <th></th>\n",
       "      <th>Product Name</th>\n",
       "      <th>MRP</th>\n",
       "      <th>Selling Price</th>\n",
       "    </tr>\n",
       "  </thead>\n",
       "  <tbody>\n",
       "    <tr>\n",
       "      <th>0</th>\n",
       "      <td>ASUS VivoBook 14 Intel Core i3-1005G1 10th Gen...</td>\n",
       "      <td>₹ 40,990.00</td>\n",
       "      <td>₹ 33,694.00</td>\n",
       "    </tr>\n",
       "    <tr>\n",
       "      <th>1</th>\n",
       "      <td>ASUS VivoBook 14 Intel Core i3-1005G1 10th Gen...</td>\n",
       "      <td>₹ 40,990.00</td>\n",
       "      <td>₹ 33,694.00</td>\n",
       "    </tr>\n",
       "    <tr>\n",
       "      <th>2</th>\n",
       "      <td>ASUS VivoBook 14 Intel Core i3-1005G1 10th Gen...</td>\n",
       "      <td>₹ 40,990.00</td>\n",
       "      <td>₹ 33,694.00</td>\n",
       "    </tr>\n",
       "    <tr>\n",
       "      <th>3</th>\n",
       "      <td>ASUS VivoBook 14 Intel Core i3-1005G1 10th Gen...</td>\n",
       "      <td>₹ 40,990.00</td>\n",
       "      <td>₹ 33,694.00</td>\n",
       "    </tr>\n",
       "    <tr>\n",
       "      <th>4</th>\n",
       "      <td>ASUS VivoBook 15 (2020) Intel Core i3-1005G1 1...</td>\n",
       "      <td>₹ 39,990.00</td>\n",
       "      <td>₹ 36,999.00</td>\n",
       "    </tr>\n",
       "    <tr>\n",
       "      <th>5</th>\n",
       "      <td>ASUS VivoBook 15 (2020) Intel Core i3-1005G1 1...</td>\n",
       "      <td>₹ 39,990.00</td>\n",
       "      <td>₹ 36,999.00</td>\n",
       "    </tr>\n",
       "    <tr>\n",
       "      <th>6</th>\n",
       "      <td>ASUS VivoBook 15 (2020) Intel Core i3-1005G1 1...</td>\n",
       "      <td>₹ 39,990.00</td>\n",
       "      <td>₹ 36,999.00</td>\n",
       "    </tr>\n",
       "    <tr>\n",
       "      <th>7</th>\n",
       "      <td>ASUS ZenBook 14, Intel Core i5-8265U 8th Gen, ...</td>\n",
       "      <td>₹ 1,02,990.00</td>\n",
       "      <td>₹ 54,990.00</td>\n",
       "    </tr>\n",
       "    <tr>\n",
       "      <th>8</th>\n",
       "      <td>ASUS ZenBook 14, Intel Core i5-8265U 8th Gen, ...</td>\n",
       "      <td>₹ 1,02,990.00</td>\n",
       "      <td>₹ 54,990.00</td>\n",
       "    </tr>\n",
       "    <tr>\n",
       "      <th>9</th>\n",
       "      <td>ASUS ZenBook 14, Intel Core i5-8265U 8th Gen, ...</td>\n",
       "      <td>₹ 1,02,990.00</td>\n",
       "      <td>₹ 54,990.00</td>\n",
       "    </tr>\n",
       "  </tbody>\n",
       "</table>\n",
       "</div>"
      ],
      "text/plain": [
       "                                        Product Name             MRP  \\\n",
       "0  ASUS VivoBook 14 Intel Core i3-1005G1 10th Gen...     ₹ 40,990.00   \n",
       "1  ASUS VivoBook 14 Intel Core i3-1005G1 10th Gen...     ₹ 40,990.00   \n",
       "2  ASUS VivoBook 14 Intel Core i3-1005G1 10th Gen...     ₹ 40,990.00   \n",
       "3  ASUS VivoBook 14 Intel Core i3-1005G1 10th Gen...     ₹ 40,990.00   \n",
       "4  ASUS VivoBook 15 (2020) Intel Core i3-1005G1 1...     ₹ 39,990.00   \n",
       "5  ASUS VivoBook 15 (2020) Intel Core i3-1005G1 1...     ₹ 39,990.00   \n",
       "6  ASUS VivoBook 15 (2020) Intel Core i3-1005G1 1...     ₹ 39,990.00   \n",
       "7  ASUS ZenBook 14, Intel Core i5-8265U 8th Gen, ...   ₹ 1,02,990.00   \n",
       "8  ASUS ZenBook 14, Intel Core i5-8265U 8th Gen, ...   ₹ 1,02,990.00   \n",
       "9  ASUS ZenBook 14, Intel Core i5-8265U 8th Gen, ...   ₹ 1,02,990.00   \n",
       "\n",
       "  Selling Price  \n",
       "0   ₹ 33,694.00  \n",
       "1   ₹ 33,694.00  \n",
       "2   ₹ 33,694.00  \n",
       "3   ₹ 33,694.00  \n",
       "4   ₹ 36,999.00  \n",
       "5   ₹ 36,999.00  \n",
       "6   ₹ 36,999.00  \n",
       "7   ₹ 54,990.00  \n",
       "8   ₹ 54,990.00  \n",
       "9   ₹ 54,990.00  "
      ]
     },
     "execution_count": 15,
     "metadata": {},
     "output_type": "execute_result"
    }
   ],
   "source": [
    "data_frame = pd.DataFrame(formated_data)\n",
    "data_frame"
   ]
  },
  {
   "cell_type": "markdown",
   "id": "double-unemployment",
   "metadata": {},
   "source": [
    "# Put all logic into One function "
   ]
  },
  {
   "cell_type": "code",
   "execution_count": 17,
   "id": "advance-lucas",
   "metadata": {},
   "outputs": [],
   "source": [
    "# this function contains all logic. \n",
    "# This function takes product name as parameter and written top 10 results from amazon with mrp and price\n",
    "def get_products_by_name(product_name):\n",
    "    products_pages = get_all_products_url(base_url+get_search_query(product_name))\n",
    "    products_price_details =[]\n",
    "    for index , product in enumerate(products_pages):\n",
    "        if index ==10 :\n",
    "            break\n",
    "        products_price_details.append(get_product_details(base_url+product))\n",
    "    return format_data(products_price_details)"
   ]
  },
  {
   "cell_type": "code",
   "execution_count": 18,
   "id": "partial-daily",
   "metadata": {},
   "outputs": [],
   "source": [
    "# calling function in order to search for samsung mobiles\n",
    "product_list = get_products_by_name(\"samsung mobiles\")\n",
    "data_frame = pd.DataFrame(product_list)"
   ]
  },
  {
   "cell_type": "code",
   "execution_count": 19,
   "id": "polished-timer",
   "metadata": {},
   "outputs": [
    {
     "data": {
      "text/html": [
       "<div>\n",
       "<style scoped>\n",
       "    .dataframe tbody tr th:only-of-type {\n",
       "        vertical-align: middle;\n",
       "    }\n",
       "\n",
       "    .dataframe tbody tr th {\n",
       "        vertical-align: top;\n",
       "    }\n",
       "\n",
       "    .dataframe thead th {\n",
       "        text-align: right;\n",
       "    }\n",
       "</style>\n",
       "<table border=\"1\" class=\"dataframe\">\n",
       "  <thead>\n",
       "    <tr style=\"text-align: right;\">\n",
       "      <th></th>\n",
       "      <th>Product Name</th>\n",
       "      <th>MRP</th>\n",
       "      <th>Selling Price</th>\n",
       "    </tr>\n",
       "  </thead>\n",
       "  <tbody>\n",
       "    <tr>\n",
       "      <th>0</th>\n",
       "      <td>Samsung Galaxy M31 Prime Edition (Space Black,...</td>\n",
       "      <td>₹ 19,999.00</td>\n",
       "      <td>₹ 16,499.00</td>\n",
       "    </tr>\n",
       "    <tr>\n",
       "      <th>1</th>\n",
       "      <td>Samsung Galaxy M31 Prime Edition (Space Black,...</td>\n",
       "      <td>₹ 19,999.00</td>\n",
       "      <td>₹ 16,499.00</td>\n",
       "    </tr>\n",
       "    <tr>\n",
       "      <th>2</th>\n",
       "      <td>Samsung Galaxy M31 Prime Edition (Space Black,...</td>\n",
       "      <td>₹ 19,999.00</td>\n",
       "      <td>₹ 16,499.00</td>\n",
       "    </tr>\n",
       "    <tr>\n",
       "      <th>3</th>\n",
       "      <td>Samsung Galaxy M31 Prime Edition (Space Black,...</td>\n",
       "      <td>₹ 19,999.00</td>\n",
       "      <td>₹ 16,499.00</td>\n",
       "    </tr>\n",
       "    <tr>\n",
       "      <th>4</th>\n",
       "      <td>Samsung Galaxy M51 (Electric Blue, 6GB RAM, 12...</td>\n",
       "      <td>₹ 28,999.00</td>\n",
       "      <td>₹ 22,999.00</td>\n",
       "    </tr>\n",
       "    <tr>\n",
       "      <th>5</th>\n",
       "      <td>Samsung Galaxy M51 (Electric Blue, 6GB RAM, 12...</td>\n",
       "      <td>₹ 28,999.00</td>\n",
       "      <td>₹ 22,999.00</td>\n",
       "    </tr>\n",
       "    <tr>\n",
       "      <th>6</th>\n",
       "      <td>Samsung Galaxy M51 (Electric Blue, 6GB RAM, 12...</td>\n",
       "      <td>₹ 28,999.00</td>\n",
       "      <td>₹ 22,999.00</td>\n",
       "    </tr>\n",
       "    <tr>\n",
       "      <th>7</th>\n",
       "      <td>Samsung Galaxy M21 (Midnight Blue, 4GB RAM, 64...</td>\n",
       "      <td>₹ 15,999.00</td>\n",
       "      <td>₹ 13,999.00</td>\n",
       "    </tr>\n",
       "    <tr>\n",
       "      <th>8</th>\n",
       "      <td>Samsung Galaxy M21 (Midnight Blue, 4GB RAM, 64...</td>\n",
       "      <td>₹ 15,999.00</td>\n",
       "      <td>₹ 13,999.00</td>\n",
       "    </tr>\n",
       "    <tr>\n",
       "      <th>9</th>\n",
       "      <td>Samsung Galaxy M21 (Midnight Blue, 4GB RAM, 64...</td>\n",
       "      <td>₹ 15,999.00</td>\n",
       "      <td>₹ 13,999.00</td>\n",
       "    </tr>\n",
       "  </tbody>\n",
       "</table>\n",
       "</div>"
      ],
      "text/plain": [
       "                                        Product Name           MRP  \\\n",
       "0  Samsung Galaxy M31 Prime Edition (Space Black,...   ₹ 19,999.00   \n",
       "1  Samsung Galaxy M31 Prime Edition (Space Black,...   ₹ 19,999.00   \n",
       "2  Samsung Galaxy M31 Prime Edition (Space Black,...   ₹ 19,999.00   \n",
       "3  Samsung Galaxy M31 Prime Edition (Space Black,...   ₹ 19,999.00   \n",
       "4  Samsung Galaxy M51 (Electric Blue, 6GB RAM, 12...   ₹ 28,999.00   \n",
       "5  Samsung Galaxy M51 (Electric Blue, 6GB RAM, 12...   ₹ 28,999.00   \n",
       "6  Samsung Galaxy M51 (Electric Blue, 6GB RAM, 12...   ₹ 28,999.00   \n",
       "7  Samsung Galaxy M21 (Midnight Blue, 4GB RAM, 64...   ₹ 15,999.00   \n",
       "8  Samsung Galaxy M21 (Midnight Blue, 4GB RAM, 64...   ₹ 15,999.00   \n",
       "9  Samsung Galaxy M21 (Midnight Blue, 4GB RAM, 64...   ₹ 15,999.00   \n",
       "\n",
       "  Selling Price  \n",
       "0   ₹ 16,499.00  \n",
       "1   ₹ 16,499.00  \n",
       "2   ₹ 16,499.00  \n",
       "3   ₹ 16,499.00  \n",
       "4   ₹ 22,999.00  \n",
       "5   ₹ 22,999.00  \n",
       "6   ₹ 22,999.00  \n",
       "7   ₹ 13,999.00  \n",
       "8   ₹ 13,999.00  \n",
       "9   ₹ 13,999.00  "
      ]
     },
     "execution_count": 19,
     "metadata": {},
     "output_type": "execute_result"
    }
   ],
   "source": [
    "data_frame"
   ]
  },
  {
   "cell_type": "code",
   "execution_count": 20,
   "id": "orange-chrome",
   "metadata": {},
   "outputs": [],
   "source": [
    "# calling function in order to search for external harddisk\n",
    "data = get_products_by_name(\"external harddisk\")\n",
    "data_frame_2 = pd.DataFrame(data)"
   ]
  },
  {
   "cell_type": "code",
   "execution_count": 21,
   "id": "operating-chancellor",
   "metadata": {},
   "outputs": [
    {
     "data": {
      "text/html": [
       "<div>\n",
       "<style scoped>\n",
       "    .dataframe tbody tr th:only-of-type {\n",
       "        vertical-align: middle;\n",
       "    }\n",
       "\n",
       "    .dataframe tbody tr th {\n",
       "        vertical-align: top;\n",
       "    }\n",
       "\n",
       "    .dataframe thead th {\n",
       "        text-align: right;\n",
       "    }\n",
       "</style>\n",
       "<table border=\"1\" class=\"dataframe\">\n",
       "  <thead>\n",
       "    <tr style=\"text-align: right;\">\n",
       "      <th></th>\n",
       "      <th>Product Name</th>\n",
       "      <th>MRP</th>\n",
       "      <th>Selling Price</th>\n",
       "    </tr>\n",
       "  </thead>\n",
       "  <tbody>\n",
       "    <tr>\n",
       "      <th>0</th>\n",
       "      <td>Seagate Backup Plus Portable 4 TB External HDD...</td>\n",
       "      <td>₹ 11,999.00</td>\n",
       "      <td>₹ 7,999.00</td>\n",
       "    </tr>\n",
       "    <tr>\n",
       "      <th>1</th>\n",
       "      <td>Seagate Backup Plus Portable 4 TB External HDD...</td>\n",
       "      <td>₹ 11,999.00</td>\n",
       "      <td>₹ 7,999.00</td>\n",
       "    </tr>\n",
       "    <tr>\n",
       "      <th>2</th>\n",
       "      <td>Seagate Backup Plus Portable 4 TB External HDD...</td>\n",
       "      <td>₹ 11,999.00</td>\n",
       "      <td>₹ 7,999.00</td>\n",
       "    </tr>\n",
       "    <tr>\n",
       "      <th>3</th>\n",
       "      <td>Seagate Backup Plus Portable 4 TB External HDD...</td>\n",
       "      <td>₹ 11,999.00</td>\n",
       "      <td>₹ 7,999.00</td>\n",
       "    </tr>\n",
       "    <tr>\n",
       "      <th>4</th>\n",
       "      <td>ADATA HV320 1TB Sleek Light Portable USB 3.1 E...</td>\n",
       "      <td>₹ 4,999.00</td>\n",
       "      <td>₹ 3,979.00</td>\n",
       "    </tr>\n",
       "    <tr>\n",
       "      <th>5</th>\n",
       "      <td>ADATA HV320 1TB Sleek Light Portable USB 3.1 E...</td>\n",
       "      <td>₹ 4,999.00</td>\n",
       "      <td>₹ 3,979.00</td>\n",
       "    </tr>\n",
       "    <tr>\n",
       "      <th>6</th>\n",
       "      <td>ADATA HV320 1TB Sleek Light Portable USB 3.1 E...</td>\n",
       "      <td>₹ 4,999.00</td>\n",
       "      <td>₹ 3,979.00</td>\n",
       "    </tr>\n",
       "    <tr>\n",
       "      <th>7</th>\n",
       "      <td>Seagate Expansion 1.5 TB External HDD - USB 3....</td>\n",
       "      <td>₹ 5,899.00</td>\n",
       "      <td>₹ 4,099.00</td>\n",
       "    </tr>\n",
       "    <tr>\n",
       "      <th>8</th>\n",
       "      <td>Seagate Expansion 1.5 TB External HDD - USB 3....</td>\n",
       "      <td>₹ 5,899.00</td>\n",
       "      <td>₹ 4,099.00</td>\n",
       "    </tr>\n",
       "    <tr>\n",
       "      <th>9</th>\n",
       "      <td>Seagate Expansion 1.5 TB External HDD - USB 3....</td>\n",
       "      <td>₹ 5,899.00</td>\n",
       "      <td>₹ 4,099.00</td>\n",
       "    </tr>\n",
       "  </tbody>\n",
       "</table>\n",
       "</div>"
      ],
      "text/plain": [
       "                                        Product Name           MRP  \\\n",
       "0  Seagate Backup Plus Portable 4 TB External HDD...   ₹ 11,999.00   \n",
       "1  Seagate Backup Plus Portable 4 TB External HDD...   ₹ 11,999.00   \n",
       "2  Seagate Backup Plus Portable 4 TB External HDD...   ₹ 11,999.00   \n",
       "3  Seagate Backup Plus Portable 4 TB External HDD...   ₹ 11,999.00   \n",
       "4  ADATA HV320 1TB Sleek Light Portable USB 3.1 E...    ₹ 4,999.00   \n",
       "5  ADATA HV320 1TB Sleek Light Portable USB 3.1 E...    ₹ 4,999.00   \n",
       "6  ADATA HV320 1TB Sleek Light Portable USB 3.1 E...    ₹ 4,999.00   \n",
       "7  Seagate Expansion 1.5 TB External HDD - USB 3....    ₹ 5,899.00   \n",
       "8  Seagate Expansion 1.5 TB External HDD - USB 3....    ₹ 5,899.00   \n",
       "9  Seagate Expansion 1.5 TB External HDD - USB 3....    ₹ 5,899.00   \n",
       "\n",
       "  Selling Price  \n",
       "0    ₹ 7,999.00  \n",
       "1    ₹ 7,999.00  \n",
       "2    ₹ 7,999.00  \n",
       "3    ₹ 7,999.00  \n",
       "4    ₹ 3,979.00  \n",
       "5    ₹ 3,979.00  \n",
       "6    ₹ 3,979.00  \n",
       "7    ₹ 4,099.00  \n",
       "8    ₹ 4,099.00  \n",
       "9    ₹ 4,099.00  "
      ]
     },
     "execution_count": 21,
     "metadata": {},
     "output_type": "execute_result"
    }
   ],
   "source": [
    "data_frame_2"
   ]
  },
  {
   "cell_type": "markdown",
   "id": "reliable-angle",
   "metadata": {},
   "source": []
  }
 ],
 "metadata": {
  "kernelspec": {
   "display_name": "Python 3",
   "language": "python",
   "name": "python3"
  },
  "language_info": {
   "codemirror_mode": {
    "name": "ipython",
    "version": 3
   },
   "file_extension": ".py",
   "mimetype": "text/x-python",
   "name": "python",
   "nbconvert_exporter": "python",
   "pygments_lexer": "ipython3",
   "version": "3.9.1"
  }
 },
 "nbformat": 4,
 "nbformat_minor": 5
}
